{
  "nbformat": 4,
  "nbformat_minor": 0,
  "metadata": {
    "colab": {
      "provenance": []
    },
    "kernelspec": {
      "name": "python3",
      "display_name": "Python 3"
    },
    "language_info": {
      "name": "python"
    }
  },
  "cells": [
    {
      "cell_type": "code",
      "execution_count": 1,
      "metadata": {
        "colab": {
          "base_uri": "https://localhost:8080/"
        },
        "id": "DnQiqaT_NF5u",
        "outputId": "218e008e-1121-42dd-b5a1-bc6869f1aac2"
      },
      "outputs": [
        {
          "output_type": "stream",
          "name": "stdout",
          "text": [
            "Digite o primeiro número: 10\n",
            "Digite o segundo número: 15\n",
            "\n",
            "Escolha a operação:\n",
            "1 - Soma\n",
            "2 - Subtração\n",
            "3 - Multiplicação\n",
            "4 - Divisão\n",
            "5 - Sair\n",
            "Digite a opção desejada: 2\n",
            "Resultado: -5.0\n",
            "------------------------------\n",
            "Digite o primeiro número: 25\n",
            "Digite o segundo número: 12\n",
            "\n",
            "Escolha a operação:\n",
            "1 - Soma\n",
            "2 - Subtração\n",
            "3 - Multiplicação\n",
            "4 - Divisão\n",
            "5 - Sair\n",
            "Digite a opção desejada: 4\n",
            "Resultado: 2.0833333333333335\n",
            "------------------------------\n",
            "Digite o primeiro número: 5\n",
            "Digite o segundo número: 5\n",
            "\n",
            "Escolha a operação:\n",
            "1 - Soma\n",
            "2 - Subtração\n",
            "3 - Multiplicação\n",
            "4 - Divisão\n",
            "5 - Sair\n",
            "Digite a opção desejada: 5\n",
            "Saindo do programa...\n"
          ]
        }
      ],
      "source": [
        "while True:\n",
        "    # Entrada de dados\n",
        "    num1 = float(input(\"Digite o primeiro número: \"))\n",
        "    num2 = float(input(\"Digite o segundo número: \"))\n",
        "\n",
        "    # Menu de operações\n",
        "    print(\"\\nEscolha a operação:\")\n",
        "    print(\"1 - Soma\")\n",
        "    print(\"2 - Subtração\")\n",
        "    print(\"3 - Multiplicação\")\n",
        "    print(\"4 - Divisão\")\n",
        "    print(\"5 - Sair\")\n",
        "\n",
        "    opcao = input(\"Digite a opção desejada: \")\n",
        "\n",
        "    # Condicional para executar a operação\n",
        "    if opcao == \"1\":\n",
        "        print(f\"Resultado: {num1 + num2}\")\n",
        "    elif opcao == \"2\":\n",
        "        print(f\"Resultado: {num1 - num2}\")\n",
        "    elif opcao == \"3\":\n",
        "        print(f\"Resultado: {num1 * num2}\")\n",
        "    elif opcao == \"4\":\n",
        "        if num2 != 0:\n",
        "            print(f\"Resultado: {num1 / num2}\")\n",
        "        else:\n",
        "            print(\"Erro: divisão por zero não é permitida.\")\n",
        "    elif opcao == \"5\":\n",
        "        print(\"Saindo do programa...\")\n",
        "        break\n",
        "    else:\n",
        "        print(\"Opção inválida, tente novamente.\")\n",
        "\n",
        "    print(\"-\" * 30)"
      ]
    }
  ]
}